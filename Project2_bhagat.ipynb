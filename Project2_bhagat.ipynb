{
  "nbformat": 4,
  "nbformat_minor": 0,
  "metadata": {
    "colab": {
      "provenance": [],
      "include_colab_link": true
    },
    "kernelspec": {
      "name": "python3",
      "display_name": "Python 3"
    },
    "language_info": {
      "name": "python"
    },
    "gpuClass": "standard",
    "accelerator": "GPU"
  },
  "cells": [
    {
      "cell_type": "markdown",
      "metadata": {
        "id": "view-in-github",
        "colab_type": "text"
      },
      "source": [
        "<a href=\"https://colab.research.google.com/github/j23-cs167/project-2-simbhagat/blob/main/Project2_bhagat.ipynb\" target=\"_parent\"><img src=\"https://colab.research.google.com/assets/colab-badge.svg\" alt=\"Open In Colab\"/></a>"
      ]
    },
    {
      "cell_type": "markdown",
      "source": [
        "# Project #2\n",
        "##Name: Simran Bhagat\n",
        "\n",
        "Proposed Points (out of 25):"
      ],
      "metadata": {
        "id": "rIepkBIuT_Pl"
      }
    },
    {
      "cell_type": "markdown",
      "source": [
        "# 1. Problem\n",
        "State the problem you are trying to solve with this machine learning experiment. Include a description of the data, where you got the data, and what you're trying to predict.."
      ],
      "metadata": {
        "id": "HbwKLNhzP8YO"
      }
    },
    {
      "cell_type": "markdown",
      "source": [
        "Using this [dataset](https://archive.ics.uci.edu/ml/datasets/Maternal+Health+Risk+Data+Set) from the UCI Machine Learning Repository, I want to see how accurately machine learning techniques can classify each mother's predicted risk intensity level (target variable), given their age, systolic and diastolic blood pressures, blood sugar, and heart rate (predictor variables). I also want to understand if the techniques correctly or incorrectly classify mothers' risk levels through a confusion matrix, and see which factor has the most impact on the target variable."
      ],
      "metadata": {
        "id": "LwseoUsMmCz2"
      }
    },
    {
      "cell_type": "markdown",
      "source": [
        "# 2. Data Preparation\n",
        "Explain your data preparation. What did you have to do to get your data in shape for your experiments? Why are you certain that you data is clean and prepared for use in your algorithms?"
      ],
      "metadata": {
        "id": "qR_foVOeQVL7"
      }
    },
    {
      "cell_type": "code",
      "source": [
        "# load and prepare your data here\n",
        "from google.colab import drive\n",
        "import pandas as pd\n",
        "import sklearn\n",
        "from sklearn.model_selection import train_test_split\n",
        "from sklearn import metrics\n",
        "drive.mount('/content/drive')\n",
        "data = pd.read_csv('/content/drive/MyDrive/CS167Datasets/maternalhealthrisk.csv')\n",
        "data.head()"
      ],
      "metadata": {
        "id": "9dUdBChRmKxR",
        "colab": {
          "base_uri": "https://localhost:8080/",
          "height": 223
        },
        "outputId": "6f13dec1-e875-410d-ac2d-68760d3679be"
      },
      "execution_count": 1,
      "outputs": [
        {
          "output_type": "stream",
          "name": "stdout",
          "text": [
            "Mounted at /content/drive\n"
          ]
        },
        {
          "output_type": "execute_result",
          "data": {
            "text/plain": [
              "   Age  SystolicBP  DiastolicBP    BS  BodyTemp  HeartRate  RiskLevel\n",
              "0   25         130           80  15.0      98.0         86  high risk\n",
              "1   35         140           90  13.0      98.0         70  high risk\n",
              "2   29          90           70   8.0     100.0         80  high risk\n",
              "3   30         140           85   7.0      98.0         70  high risk\n",
              "4   35         120           60   6.1      98.0         76   low risk"
            ],
            "text/html": [
              "\n",
              "  <div id=\"df-24af0059-23d0-45ba-a80b-be9d8e549f8e\">\n",
              "    <div class=\"colab-df-container\">\n",
              "      <div>\n",
              "<style scoped>\n",
              "    .dataframe tbody tr th:only-of-type {\n",
              "        vertical-align: middle;\n",
              "    }\n",
              "\n",
              "    .dataframe tbody tr th {\n",
              "        vertical-align: top;\n",
              "    }\n",
              "\n",
              "    .dataframe thead th {\n",
              "        text-align: right;\n",
              "    }\n",
              "</style>\n",
              "<table border=\"1\" class=\"dataframe\">\n",
              "  <thead>\n",
              "    <tr style=\"text-align: right;\">\n",
              "      <th></th>\n",
              "      <th>Age</th>\n",
              "      <th>SystolicBP</th>\n",
              "      <th>DiastolicBP</th>\n",
              "      <th>BS</th>\n",
              "      <th>BodyTemp</th>\n",
              "      <th>HeartRate</th>\n",
              "      <th>RiskLevel</th>\n",
              "    </tr>\n",
              "  </thead>\n",
              "  <tbody>\n",
              "    <tr>\n",
              "      <th>0</th>\n",
              "      <td>25</td>\n",
              "      <td>130</td>\n",
              "      <td>80</td>\n",
              "      <td>15.0</td>\n",
              "      <td>98.0</td>\n",
              "      <td>86</td>\n",
              "      <td>high risk</td>\n",
              "    </tr>\n",
              "    <tr>\n",
              "      <th>1</th>\n",
              "      <td>35</td>\n",
              "      <td>140</td>\n",
              "      <td>90</td>\n",
              "      <td>13.0</td>\n",
              "      <td>98.0</td>\n",
              "      <td>70</td>\n",
              "      <td>high risk</td>\n",
              "    </tr>\n",
              "    <tr>\n",
              "      <th>2</th>\n",
              "      <td>29</td>\n",
              "      <td>90</td>\n",
              "      <td>70</td>\n",
              "      <td>8.0</td>\n",
              "      <td>100.0</td>\n",
              "      <td>80</td>\n",
              "      <td>high risk</td>\n",
              "    </tr>\n",
              "    <tr>\n",
              "      <th>3</th>\n",
              "      <td>30</td>\n",
              "      <td>140</td>\n",
              "      <td>85</td>\n",
              "      <td>7.0</td>\n",
              "      <td>98.0</td>\n",
              "      <td>70</td>\n",
              "      <td>high risk</td>\n",
              "    </tr>\n",
              "    <tr>\n",
              "      <th>4</th>\n",
              "      <td>35</td>\n",
              "      <td>120</td>\n",
              "      <td>60</td>\n",
              "      <td>6.1</td>\n",
              "      <td>98.0</td>\n",
              "      <td>76</td>\n",
              "      <td>low risk</td>\n",
              "    </tr>\n",
              "  </tbody>\n",
              "</table>\n",
              "</div>\n",
              "      <button class=\"colab-df-convert\" onclick=\"convertToInteractive('df-24af0059-23d0-45ba-a80b-be9d8e549f8e')\"\n",
              "              title=\"Convert this dataframe to an interactive table.\"\n",
              "              style=\"display:none;\">\n",
              "        \n",
              "  <svg xmlns=\"http://www.w3.org/2000/svg\" height=\"24px\"viewBox=\"0 0 24 24\"\n",
              "       width=\"24px\">\n",
              "    <path d=\"M0 0h24v24H0V0z\" fill=\"none\"/>\n",
              "    <path d=\"M18.56 5.44l.94 2.06.94-2.06 2.06-.94-2.06-.94-.94-2.06-.94 2.06-2.06.94zm-11 1L8.5 8.5l.94-2.06 2.06-.94-2.06-.94L8.5 2.5l-.94 2.06-2.06.94zm10 10l.94 2.06.94-2.06 2.06-.94-2.06-.94-.94-2.06-.94 2.06-2.06.94z\"/><path d=\"M17.41 7.96l-1.37-1.37c-.4-.4-.92-.59-1.43-.59-.52 0-1.04.2-1.43.59L10.3 9.45l-7.72 7.72c-.78.78-.78 2.05 0 2.83L4 21.41c.39.39.9.59 1.41.59.51 0 1.02-.2 1.41-.59l7.78-7.78 2.81-2.81c.8-.78.8-2.07 0-2.86zM5.41 20L4 18.59l7.72-7.72 1.47 1.35L5.41 20z\"/>\n",
              "  </svg>\n",
              "      </button>\n",
              "      \n",
              "  <style>\n",
              "    .colab-df-container {\n",
              "      display:flex;\n",
              "      flex-wrap:wrap;\n",
              "      gap: 12px;\n",
              "    }\n",
              "\n",
              "    .colab-df-convert {\n",
              "      background-color: #E8F0FE;\n",
              "      border: none;\n",
              "      border-radius: 50%;\n",
              "      cursor: pointer;\n",
              "      display: none;\n",
              "      fill: #1967D2;\n",
              "      height: 32px;\n",
              "      padding: 0 0 0 0;\n",
              "      width: 32px;\n",
              "    }\n",
              "\n",
              "    .colab-df-convert:hover {\n",
              "      background-color: #E2EBFA;\n",
              "      box-shadow: 0px 1px 2px rgba(60, 64, 67, 0.3), 0px 1px 3px 1px rgba(60, 64, 67, 0.15);\n",
              "      fill: #174EA6;\n",
              "    }\n",
              "\n",
              "    [theme=dark] .colab-df-convert {\n",
              "      background-color: #3B4455;\n",
              "      fill: #D2E3FC;\n",
              "    }\n",
              "\n",
              "    [theme=dark] .colab-df-convert:hover {\n",
              "      background-color: #434B5C;\n",
              "      box-shadow: 0px 1px 3px 1px rgba(0, 0, 0, 0.15);\n",
              "      filter: drop-shadow(0px 1px 2px rgba(0, 0, 0, 0.3));\n",
              "      fill: #FFFFFF;\n",
              "    }\n",
              "  </style>\n",
              "\n",
              "      <script>\n",
              "        const buttonEl =\n",
              "          document.querySelector('#df-24af0059-23d0-45ba-a80b-be9d8e549f8e button.colab-df-convert');\n",
              "        buttonEl.style.display =\n",
              "          google.colab.kernel.accessAllowed ? 'block' : 'none';\n",
              "\n",
              "        async function convertToInteractive(key) {\n",
              "          const element = document.querySelector('#df-24af0059-23d0-45ba-a80b-be9d8e549f8e');\n",
              "          const dataTable =\n",
              "            await google.colab.kernel.invokeFunction('convertToInteractive',\n",
              "                                                     [key], {});\n",
              "          if (!dataTable) return;\n",
              "\n",
              "          const docLinkHtml = 'Like what you see? Visit the ' +\n",
              "            '<a target=\"_blank\" href=https://colab.research.google.com/notebooks/data_table.ipynb>data table notebook</a>'\n",
              "            + ' to learn more about interactive tables.';\n",
              "          element.innerHTML = '';\n",
              "          dataTable['output_type'] = 'display_data';\n",
              "          await google.colab.output.renderOutput(dataTable, element);\n",
              "          const docLink = document.createElement('div');\n",
              "          docLink.innerHTML = docLinkHtml;\n",
              "          element.appendChild(docLink);\n",
              "        }\n",
              "      </script>\n",
              "    </div>\n",
              "  </div>\n",
              "  "
            ]
          },
          "metadata": {},
          "execution_count": 1
        }
      ]
    },
    {
      "cell_type": "code",
      "source": [
        "data.isna().any()\n",
        "# there are no duplicates and the data doesn't have any structural issues, so it is clean"
      ],
      "metadata": {
        "colab": {
          "base_uri": "https://localhost:8080/"
        },
        "id": "yfu5T4QU-SFg",
        "outputId": "52a4b540-ac8f-476e-b1fb-26c5933fb3a6"
      },
      "execution_count": 6,
      "outputs": [
        {
          "output_type": "execute_result",
          "data": {
            "text/plain": [
              "Age            False\n",
              "SystolicBP     False\n",
              "DiastolicBP    False\n",
              "BS             False\n",
              "BodyTemp       False\n",
              "HeartRate      False\n",
              "RiskLevel      False\n",
              "dtype: bool"
            ]
          },
          "metadata": {},
          "execution_count": 6
        }
      ]
    },
    {
      "cell_type": "markdown",
      "source": [
        "# 3. Research\n",
        "\n",
        "Put your code and your experiments here."
      ],
      "metadata": {
        "id": "Hc7HMmNPR10W"
      }
    },
    {
      "cell_type": "code",
      "source": [
        "# create training and test data sets\n",
        "predictors = data.columns.drop('RiskLevel')\n",
        "target = 'RiskLevel'\n",
        "\n",
        "train_data, test_data, train_sln, test_sln = train_test_split(data[predictors], data[target], test_size = 0.2, random_state=110)"
      ],
      "metadata": {
        "id": "T_hgZo94tu46"
      },
      "execution_count": 2,
      "outputs": []
    },
    {
      "cell_type": "code",
      "source": [
        "# normalize data here\n",
        "from sklearn.preprocessing import StandardScaler\n",
        "scaler = StandardScaler()\n",
        "scaler.fit(train_data)\n",
        "train_data_norm = scaler.transform(train_data)\n",
        "test_data_norm = scaler.transform(test_data)\n",
        "train_data_norm"
      ],
      "metadata": {
        "colab": {
          "base_uri": "https://localhost:8080/"
        },
        "id": "cl0M1L_5uEuN",
        "outputId": "71062e0c-56d6-432f-e546-19a8de3ec561"
      },
      "execution_count": 3,
      "outputs": [
        {
          "output_type": "execute_result",
          "data": {
            "text/plain": [
              "array([[ 0.35207657,  0.39281091, -1.19266865, -0.55592705, -0.48713968,\n",
              "        -0.54163208],\n",
              "       [ 0.35207657, -1.2595213 , -0.82777719, -0.55592705, -0.48713968,\n",
              "         0.06710353],\n",
              "       [-0.161738  ,  0.39281091,  0.99668009, -0.55592705, -0.48713968,\n",
              "        -0.54163208],\n",
              "       ...,\n",
              "       [-1.11596506, -1.8102987 , -1.19266865, -0.52512303, -0.48713968,\n",
              "         0.67583915],\n",
              "       [ 0.05846824,  0.39281091, -1.19266865, -0.80235918, -0.48713968,\n",
              "         0.18885065],\n",
              "       [-0.08833592,  0.39281091, -0.46288573,  0.09095731, -0.48713968,\n",
              "         0.67583915]])"
            ]
          },
          "metadata": {},
          "execution_count": 3
        }
      ]
    },
    {
      "cell_type": "code",
      "source": [
        "# random forest model\n",
        "from sklearn.ensemble import RandomForestClassifier\n",
        "from sklearn.metrics import confusion_matrix\n",
        "\n",
        "# random forest model (non-normalized)\n",
        "forest = RandomForestClassifier(random_state = 0, n_estimators=100)\n",
        "forest.fit(train_data,train_sln)\n",
        "predictions = forest.predict(test_data)\n",
        "print('accuracy: ', metrics.accuracy_score(test_sln, predictions))\n",
        "vals = data[target].unique()\n",
        "conf_mat = metrics.confusion_matrix(test_sln, predictions, labels=vals)\n",
        "print(pd.DataFrame(conf_mat, index = \"T \" + vals, columns = \"Pred \" + vals))\n",
        "\n",
        "# random forest model (normalized)\n",
        "nforest = RandomForestClassifier(random_state = 0, n_estimators=100)\n",
        "nforest.fit(train_data_norm,train_sln)\n",
        "preds = nforest.predict(test_data_norm)\n",
        "print('accuracy (normalized): ', metrics.accuracy_score(test_sln, preds))\n",
        "vals = data[target].unique()\n",
        "conf_mat = metrics.confusion_matrix(test_sln, preds, labels=vals)\n",
        "print(pd.DataFrame(conf_mat, index = \"T \" + vals, columns = \"Pred \" + vals))\n",
        "\n",
        "# feature importance chart\n",
        "import matplotlib.pyplot as plt\n",
        "%matplotlib inline\n",
        "\n",
        "index = range(len(predictors))\n",
        "\n",
        "plt.figure(figsize=(8,10)) \n",
        "plt.barh(index,forest.feature_importances_,height=0.8) \n",
        "plt.ylabel('Feature')\n",
        "plt.yticks(index,predictors) \n",
        "plt.xlabel(\"Random Forest Feature Importance\")\n",
        "plt.show()"
      ],
      "metadata": {
        "id": "vd3yJeYDwI2B",
        "colab": {
          "base_uri": "https://localhost:8080/",
          "height": 780
        },
        "outputId": "dc8a6f63-0035-4a1c-81ac-06018b930ca9"
      },
      "execution_count": 9,
      "outputs": [
        {
          "output_type": "stream",
          "name": "stdout",
          "text": [
            "accuracy:  0.8571428571428571\n",
            "             Pred high risk  Pred low risk  Pred mid risk\n",
            "T high risk              54              2              2\n",
            "T low risk                2             66             12\n",
            "T mid risk                3              8             54\n",
            "accuracy (normalized):  0.8571428571428571\n",
            "             Pred high risk  Pred low risk  Pred mid risk\n",
            "T high risk              54              2              2\n",
            "T low risk                2             66             12\n",
            "T mid risk                3              8             54\n"
          ]
        },
        {
          "output_type": "display_data",
          "data": {
            "text/plain": [
              "<Figure size 576x720 with 1 Axes>"
            ],
            "image/png": "[encoded data removed]"
          },
          "metadata": {
            "needs_background": "light"
          }
        }
      ]
    },
    {
      "cell_type": "code",
      "source": [
        "def tune_number_of_trees(n_estimator_values):\n",
        "    rf_acc = []\n",
        "\n",
        "    for n in n_estimator_values:\n",
        "\n",
        "        curr_rf = RandomForestClassifier(n_estimators=n, random_state=41)\n",
        "        curr_rf.fit(train_data_norm,train_sln)\n",
        "        curr_predictions = curr_rf.predict(test_data_norm)\n",
        "        curr_acc = metrics.accuracy_score(test_sln,curr_predictions)\n",
        "        rf_acc.append(curr_acc)\n",
        "\n",
        "\n",
        "    plt.suptitle('Random Forest Accuracy vs. number of trees',fontsize=18)\n",
        "    plt.xlabel('# trees')\n",
        "    plt.ylabel('accuracy')\n",
        "    plt.plot(n_estimator_values,rf_acc,'gs-')\n",
        "    plt.axis([0,n_estimator_values[-1]+1,0.7,1])\n",
        "    plt.show()\n",
        "    \n",
        "tune_number_of_trees(range(1, 50))"
      ],
      "metadata": {
        "colab": {
          "base_uri": "https://localhost:8080/",
          "height": 308
        },
        "id": "HREXDLjxhC_K",
        "outputId": "24965d52-d373-4895-ef97-03bc11c4e484"
      },
      "execution_count": 30,
      "outputs": [
        {
          "output_type": "display_data",
          "data": {
            "text/plain": [
              "<Figure size 432x288 with 1 Axes>"
            ],
            "image/png": "[encoded data removed]"
          },
          "metadata": {
            "needs_background": "light"
          }
        }
      ]
    },
    {
      "cell_type": "code",
      "source": [
        "# support vector classifier\n",
        "from sklearn.svm import SVC\n",
        "\n",
        "clf = SVC(kernel='poly', random_state=41)\n",
        "clf.fit(train_data,train_sln)\n",
        "predictions = clf.predict(test_data)\n",
        "\n",
        "print(\"accuracy:\", metrics.accuracy_score(test_sln, predictions))\n",
        "vals = data[target].unique()\n",
        "conf_mat1 = metrics.confusion_matrix(test_sln, predictions, labels=vals)\n",
        "print(pd.DataFrame(conf_mat1, index = \"T \" + vals, columns = \"Pred \" + vals))\n",
        "\n",
        "# SVC (normalized)\n",
        "nclf = SVC(kernel='poly', random_state=41)\n",
        "nclf.fit(train_data_norm,train_sln)\n",
        "preds = nclf.predict(test_data_norm)\n",
        "\n",
        "print(\"accuracy (normalized):\", metrics.accuracy_score(test_sln, preds))\n",
        "vals = data[target].unique()\n",
        "conf_mat2 = metrics.confusion_matrix(test_sln, preds, labels=vals)\n",
        "print(pd.DataFrame(conf_mat2, index = \"T \" + vals, columns = \"Pred \" + vals))"
      ],
      "metadata": {
        "id": "tHuvnRnov7bM",
        "colab": {
          "base_uri": "https://localhost:8080/"
        },
        "outputId": "ca104e84-0133-41e0-f6c0-1bb69aa03e88"
      },
      "execution_count": 24,
      "outputs": [
        {
          "output_type": "stream",
          "name": "stdout",
          "text": [
            "accuracy: 0.7093596059113301\n",
            "             Pred high risk  Pred low risk  Pred mid risk\n",
            "T high risk              42              7              9\n",
            "T low risk                0             74              6\n",
            "T mid risk                6             31             28\n",
            "accuracy (normalized): 0.6650246305418719\n",
            "             Pred high risk  Pred low risk  Pred mid risk\n",
            "T high risk              42             12              4\n",
            "T low risk                1             75              4\n",
            "T mid risk                4             43             18\n"
          ]
        }
      ]
    },
    {
      "cell_type": "code",
      "source": [
        "# perceptron\n",
        "from sklearn.linear_model import Perceptron\n",
        "\n",
        "perc = Perceptron(penalty = 'l1', random_state=41)\n",
        "perc.fit(train_data,train_sln)\n",
        "perc_predictions = perc.predict(test_data)\n",
        "\n",
        "print(\"accuracy:\", metrics.accuracy_score(test_sln, perc_predictions))\n",
        "conf_mat1 = metrics.confusion_matrix(test_sln, perc_predictions, labels=vals) \n",
        "print(pd.DataFrame(conf_mat1, index = \"T\" + vals, columns = \"Pred\" + vals))\n",
        "\n",
        "# perceptron (normalized)\n",
        "nperc = Perceptron(penalty = 'l1', random_state=41)\n",
        "nperc.fit(train_data_norm,train_sln)\n",
        "nperc_preds = nperc.predict(test_data_norm)\n",
        "\n",
        "print(\"accuracy (normalized):\", metrics.accuracy_score(test_sln, nperc_preds))\n",
        "conf_mat2 = metrics.confusion_matrix(test_sln, nperc_preds, labels=vals) \n",
        "print(pd.DataFrame(conf_mat2, index = \"T\" + vals, columns = \"Pred\" + vals))"
      ],
      "metadata": {
        "id": "dVOkdrO0v9QU",
        "colab": {
          "base_uri": "https://localhost:8080/"
        },
        "outputId": "91a73029-273a-4d01-9a14-e6bccf5c9336"
      },
      "execution_count": 20,
      "outputs": [
        {
          "output_type": "stream",
          "name": "stdout",
          "text": [
            "accuracy: 0.645320197044335\n",
            "            Predhigh risk  Predlow risk  Predmid risk\n",
            "Thigh risk             42            15             1\n",
            "Tlow risk               4            75             1\n",
            "Tmid risk               8            43            14\n",
            "accuracy (normalized): 0.6305418719211823\n",
            "            Predhigh risk  Predlow risk  Predmid risk\n",
            "Thigh risk             52             3             3\n",
            "Tlow risk               5            73             2\n",
            "Tmid risk              20            42             3\n"
          ]
        }
      ]
    },
    {
      "cell_type": "code",
      "source": [
        "# stochastic gradient descent\n",
        "from sklearn.linear_model import SGDClassifier\n",
        "\n",
        "sgd = SGDClassifier(loss='modified_huber', random_state=41)\n",
        "sgd.fit(train_data,train_sln)\n",
        "sgd_predictions = sgd.predict(test_data)\n",
        "\n",
        "print(\"accuracy:\", metrics.accuracy_score(test_sln, sgd_predictions))\n",
        "conf_mat1 = metrics.confusion_matrix(test_sln, sgd_predictions, labels=vals) \n",
        "print(pd.DataFrame(conf_mat1, index = \"T \" + vals, columns = \"Pred \" + vals))\n",
        "\n",
        "# SGD (normalized)\n",
        "nsgd = SGDClassifier(loss='modified_huber', random_state=41)\n",
        "nsgd.fit(train_data_norm,train_sln)\n",
        "nsgd_preds = nsgd.predict(test_data_norm)\n",
        "\n",
        "print(\"accuracy (normalized):\", metrics.accuracy_score(test_sln, nsgd_preds))\n",
        "conf_mat2 = metrics.confusion_matrix(test_sln, nsgd_preds, labels=vals) \n",
        "print(pd.DataFrame(conf_mat2, index = \"T \" + vals, columns = \"Pred \" + vals))"
      ],
      "metadata": {
        "id": "mXnPklwgv_N4",
        "colab": {
          "base_uri": "https://localhost:8080/"
        },
        "outputId": "353dd27b-f715-4208-d3e3-2ee2f780dffa"
      },
      "execution_count": 15,
      "outputs": [
        {
          "output_type": "stream",
          "name": "stdout",
          "text": [
            "accuracy: 0.5270935960591133\n",
            "             Pred high risk  Pred low risk  Pred mid risk\n",
            "T high risk              31              7             20\n",
            "T low risk                0             35             45\n",
            "T mid risk                6             18             41\n",
            "accuracy (normalized): 0.6059113300492611\n",
            "             Pred high risk  Pred low risk  Pred mid risk\n",
            "T high risk              44              1             13\n",
            "T low risk                8             53             19\n",
            "T mid risk               16             23             26\n"
          ]
        }
      ]
    },
    {
      "cell_type": "code",
      "source": [
        "# multilayer perceptron\n",
        "from sklearn.neural_network import MLPClassifier\n",
        "\n",
        "mlp = MLPClassifier(random_state=0,hidden_layer_sizes = (100,), max_iter = 800)\n",
        "mlp.fit(train_data,train_sln)\n",
        "predictions = mlp.predict(test_data)\n",
        "\n",
        "print(\"accuracy:\", metrics.accuracy_score(test_sln, predictions))\n",
        "conf_mat1 = metrics.confusion_matrix(test_sln, predictions, labels=vals) \n",
        "print(pd.DataFrame(conf_mat1, index = \"T \" + vals, columns = \"Pred \" + vals))\n",
        "\n",
        "# MLP (normalized)\n",
        "nmlp = MLPClassifier(random_state=0,hidden_layer_sizes = (100,), max_iter = 800)\n",
        "nmlp.fit(train_data_norm,train_sln)\n",
        "preds = nmlp.predict(test_data_norm)\n",
        "\n",
        "print(\"accuracy (normalized):\", metrics.accuracy_score(test_sln, preds))\n",
        "conf_mat2 = metrics.confusion_matrix(test_sln, preds, labels=vals) \n",
        "print(pd.DataFrame(conf_mat2, index = \"T \" + vals, columns = \"Pred \" + vals))"
      ],
      "metadata": {
        "colab": {
          "base_uri": "https://localhost:8080/"
        },
        "id": "u6UFQZ_A7sLV",
        "outputId": "f29ff57c-a6da-4d7c-ee12-473bee854617"
      },
      "execution_count": 14,
      "outputs": [
        {
          "output_type": "stream",
          "name": "stdout",
          "text": [
            "accuracy: 0.5763546798029556\n",
            "             Pred high risk  Pred low risk  Pred mid risk\n",
            "T high risk              34             24              0\n",
            "T low risk                0             80              0\n",
            "T mid risk                5             57              3\n",
            "accuracy (normalized): 0.7487684729064039\n",
            "             Pred high risk  Pred low risk  Pred mid risk\n",
            "T high risk              47              3              8\n",
            "T low risk                1             74              5\n",
            "T mid risk                5             29             31\n"
          ]
        }
      ]
    },
    {
      "cell_type": "code",
      "source": [
        "# neural network model\n",
        "import tensorflow as tf\n",
        "import warnings\n",
        "warnings.simplefilter(action='ignore', category=FutureWarning)\n",
        "warnings.simplefilter(action='ignore', category=DeprecationWarning)\n",
        "\n",
        "import keras\n",
        "from keras.models import Sequential\n",
        "from keras.layers import Dense\n",
        "\n",
        "model0 = Sequential(name='mhr_1')\n",
        "model0.add(Dense(3, input_dim=6, activation='sigmoid'))\n",
        "model0.add(Dense(3, activation='sigmoid'))\n",
        "model0.add(Dense(3, activation='softmax'))\n",
        "\n",
        "from sklearn.metrics import r2_score\n",
        "model0.compile(loss='mean_squared_error',\n",
        "              optimizer='sgd', \n",
        "              metrics=['accuracy'])\n",
        "model0.summary()"
      ],
      "metadata": {
        "id": "Is5IxyL1-q5L",
        "colab": {
          "base_uri": "https://localhost:8080/"
        },
        "outputId": "4ad0aee3-3b80-4aba-d98d-240d255836f3"
      },
      "execution_count": 19,
      "outputs": [
        {
          "output_type": "stream",
          "name": "stdout",
          "text": [
            "Model: \"mhr_1\"\n",
            "_________________________________________________________________\n",
            " Layer (type)                Output Shape              Param #   \n",
            "=================================================================\n",
            " dense_30 (Dense)            (None, 3)                 21        \n",
            "                                                                 \n",
            " dense_31 (Dense)            (None, 3)                 12        \n",
            "                                                                 \n",
            " dense_32 (Dense)            (None, 3)                 12        \n",
            "                                                                 \n",
            "=================================================================\n",
            "Total params: 45\n",
            "Trainable params: 45\n",
            "Non-trainable params: 0\n",
            "_________________________________________________________________\n"
          ]
        }
      ]
    },
    {
      "cell_type": "code",
      "source": [
        "history = model0.fit(train_data, train_sln, batch_size=10, epochs=10)"
      ],
      "metadata": {
        "colab": {
          "base_uri": "https://localhost:8080/",
          "height": 1000
        },
        "id": "lIcuQTMaFkNI",
        "outputId": "b02ae3d5-8d52-446a-f1de-e67fde23fd8f"
      },
      "execution_count": 20,
      "outputs": [
        {
          "output_type": "stream",
          "name": "stdout",
          "text": [
            "Epoch 1/10\n"
          ]
        },
        {
          "output_type": "error",
          "ename": "UnimplementedError",
          "evalue": "ignored",
          "traceback": [
            "\u001b[0;31m---------------------------------------------------------------------------\u001b[0m",
            "\u001b[0;31mUnimplementedError\u001b[0m                        Traceback (most recent call last)",
            "\u001b[0;32m<ipython-input-20-85c404e6de41>\u001b[0m in \u001b[0;36m<module>\u001b[0;34m\u001b[0m\n\u001b[0;32m----> 1\u001b[0;31m \u001b[0mhistory\u001b[0m \u001b[0;34m=\u001b[0m \u001b[0mmodel0\u001b[0m\u001b[0;34m.\u001b[0m\u001b[0mfit\u001b[0m\u001b[0;34m(\u001b[0m\u001b[0mtrain_data\u001b[0m\u001b[0;34m,\u001b[0m \u001b[0mtrain_sln\u001b[0m\u001b[0;34m,\u001b[0m \u001b[0mbatch_size\u001b[0m\u001b[0;34m=\u001b[0m\u001b[0;36m10\u001b[0m\u001b[0;34m,\u001b[0m \u001b[0mepochs\u001b[0m\u001b[0;34m=\u001b[0m\u001b[0;36m10\u001b[0m\u001b[0;34m)\u001b[0m\u001b[0;34m\u001b[0m\u001b[0;34m\u001b[0m\u001b[0m\n\u001b[0m",
            "\u001b[0;32m/usr/local/lib/python3.8/dist-packages/keras/utils/traceback_utils.py\u001b[0m in \u001b[0;36merror_handler\u001b[0;34m(*args, **kwargs)\u001b[0m\n\u001b[1;32m     65\u001b[0m     \u001b[0;32mexcept\u001b[0m \u001b[0mException\u001b[0m \u001b[0;32mas\u001b[0m \u001b[0me\u001b[0m\u001b[0;34m:\u001b[0m  \u001b[0;31m# pylint: disable=broad-except\u001b[0m\u001b[0;34m\u001b[0m\u001b[0;34m\u001b[0m\u001b[0m\n\u001b[1;32m     66\u001b[0m       \u001b[0mfiltered_tb\u001b[0m \u001b[0;34m=\u001b[0m \u001b[0m_process_traceback_frames\u001b[0m\u001b[0;34m(\u001b[0m\u001b[0me\u001b[0m\u001b[0;34m.\u001b[0m\u001b[0m__traceback__\u001b[0m\u001b[0;34m)\u001b[0m\u001b[0;34m\u001b[0m\u001b[0;34m\u001b[0m\u001b[0m\n\u001b[0;32m---> 67\u001b[0;31m       \u001b[0;32mraise\u001b[0m \u001b[0me\u001b[0m\u001b[0;34m.\u001b[0m\u001b[0mwith_traceback\u001b[0m\u001b[0;34m(\u001b[0m\u001b[0mfiltered_tb\u001b[0m\u001b[0;34m)\u001b[0m \u001b[0;32mfrom\u001b[0m \u001b[0;32mNone\u001b[0m\u001b[0;34m\u001b[0m\u001b[0;34m\u001b[0m\u001b[0m\n\u001b[0m\u001b[1;32m     68\u001b[0m     \u001b[0;32mfinally\u001b[0m\u001b[0;34m:\u001b[0m\u001b[0;34m\u001b[0m\u001b[0;34m\u001b[0m\u001b[0m\n\u001b[1;32m     69\u001b[0m       \u001b[0;32mdel\u001b[0m \u001b[0mfiltered_tb\u001b[0m\u001b[0;34m\u001b[0m\u001b[0;34m\u001b[0m\u001b[0m\n",
            "\u001b[0;32m/usr/local/lib/python3.8/dist-packages/tensorflow/python/eager/execute.py\u001b[0m in \u001b[0;36mquick_execute\u001b[0;34m(op_name, num_outputs, inputs, attrs, ctx, name)\u001b[0m\n\u001b[1;32m     52\u001b[0m   \u001b[0;32mtry\u001b[0m\u001b[0;34m:\u001b[0m\u001b[0;34m\u001b[0m\u001b[0;34m\u001b[0m\u001b[0m\n\u001b[1;32m     53\u001b[0m     \u001b[0mctx\u001b[0m\u001b[0;34m.\u001b[0m\u001b[0mensure_initialized\u001b[0m\u001b[0;34m(\u001b[0m\u001b[0;34m)\u001b[0m\u001b[0;34m\u001b[0m\u001b[0;34m\u001b[0m\u001b[0m\n\u001b[0;32m---> 54\u001b[0;31m     tensors = pywrap_tfe.TFE_Py_Execute(ctx._handle, device_name, op_name,\n\u001b[0m\u001b[1;32m     55\u001b[0m                                         inputs, attrs, num_outputs)\n\u001b[1;32m     56\u001b[0m   \u001b[0;32mexcept\u001b[0m \u001b[0mcore\u001b[0m\u001b[0;34m.\u001b[0m\u001b[0m_NotOkStatusException\u001b[0m \u001b[0;32mas\u001b[0m \u001b[0me\u001b[0m\u001b[0;34m:\u001b[0m\u001b[0;34m\u001b[0m\u001b[0;34m\u001b[0m\u001b[0m\n",
            "\u001b[0;31mUnimplementedError\u001b[0m: Graph execution error:\n\nDetected at node 'mean_squared_error/Cast' defined at (most recent call last):\n    File \"/usr/lib/python3.8/runpy.py\", line 194, in _run_module_as_main\n      return _run_code(code, main_globals, None,\n    File \"/usr/lib/python3.8/runpy.py\", line 87, in _run_code\n      exec(code, run_globals)\n    File \"/usr/local/lib/python3.8/dist-packages/ipykernel_launcher.py\", line 16, in <module>\n      app.launch_new_instance()\n    File \"/usr/local/lib/python3.8/dist-packages/traitlets/config/application.py\", line 992, in launch_instance\n      app.start()\n    File \"/usr/local/lib/python3.8/dist-packages/ipykernel/kernelapp.py\", line 612, in start\n      self.io_loop.start()\n    File \"/usr/local/lib/python3.8/dist-packages/tornado/platform/asyncio.py\", line 149, in start\n      self.asyncio_loop.run_forever()\n    File \"/usr/lib/python3.8/asyncio/base_events.py\", line 570, in run_forever\n      self._run_once()\n    File \"/usr/lib/python3.8/asyncio/base_events.py\", line 1859, in _run_once\n      handle._run()\n    File \"/usr/lib/python3.8/asyncio/events.py\", line 81, in _run\n      self._context.run(self._callback, *self._args)\n    File \"/usr/local/lib/python3.8/dist-packages/tornado/ioloop.py\", line 690, in <lambda>\n      lambda f: self._run_callback(functools.partial(callback, future))\n    File \"/usr/local/lib/python3.8/dist-packages/tornado/ioloop.py\", line 743, in _run_callback\n      ret = callback()\n    File \"/usr/local/lib/python3.8/dist-packages/tornado/gen.py\", line 787, in inner\n      self.run()\n    File \"/usr/local/lib/python3.8/dist-packages/tornado/gen.py\", line 748, in run\n      yielded = self.gen.send(value)\n    File \"/usr/local/lib/python3.8/dist-packages/ipykernel/kernelbase.py\", line 381, in dispatch_queue\n      yield self.process_one()\n    File \"/usr/local/lib/python3.8/dist-packages/tornado/gen.py\", line 225, in wrapper\n      runner = Runner(result, future, yielded)\n    File \"/usr/local/lib/python3.8/dist-packages/tornado/gen.py\", line 714, in __init__\n      self.run()\n    File \"/usr/local/lib/python3.8/dist-packages/tornado/gen.py\", line 748, in run\n      yielded = self.gen.send(value)\n    File \"/usr/local/lib/python3.8/dist-packages/ipykernel/kernelbase.py\", line 365, in process_one\n      yield gen.maybe_future(dispatch(*args))\n    File \"/usr/local/lib/python3.8/dist-packages/tornado/gen.py\", line 209, in wrapper\n      yielded = next(result)\n    File \"/usr/local/lib/python3.8/dist-packages/ipykernel/kernelbase.py\", line 268, in dispatch_shell\n      yield gen.maybe_future(handler(stream, idents, msg))\n    File \"/usr/local/lib/python3.8/dist-packages/tornado/gen.py\", line 209, in wrapper\n      yielded = next(result)\n    File \"/usr/local/lib/python3.8/dist-packages/ipykernel/kernelbase.py\", line 543, in execute_request\n      self.do_execute(\n    File \"/usr/local/lib/python3.8/dist-packages/tornado/gen.py\", line 209, in wrapper\n      yielded = next(result)\n    File \"/usr/local/lib/python3.8/dist-packages/ipykernel/ipkernel.py\", line 306, in do_execute\n      res = shell.run_cell(code, store_history=store_history, silent=silent)\n    File \"/usr/local/lib/python3.8/dist-packages/ipykernel/zmqshell.py\", line 536, in run_cell\n      return super(ZMQInteractiveShell, self).run_cell(*args, **kwargs)\n    File \"/usr/local/lib/python3.8/dist-packages/IPython/core/interactiveshell.py\", line 2854, in run_cell\n      result = self._run_cell(\n    File \"/usr/local/lib/python3.8/dist-packages/IPython/core/interactiveshell.py\", line 2881, in _run_cell\n      return runner(coro)\n    File \"/usr/local/lib/python3.8/dist-packages/IPython/core/async_helpers.py\", line 68, in _pseudo_sync_runner\n      coro.send(None)\n    File \"/usr/local/lib/python3.8/dist-packages/IPython/core/interactiveshell.py\", line 3057, in run_cell_async\n      has_raised = await self.run_ast_nodes(code_ast.body, cell_name,\n    File \"/usr/local/lib/python3.8/dist-packages/IPython/core/interactiveshell.py\", line 3249, in run_ast_nodes\n      if (await self.run_code(code, result,  async_=asy)):\n    File \"/usr/local/lib/python3.8/dist-packages/IPython/core/interactiveshell.py\", line 3326, in run_code\n      exec(code_obj, self.user_global_ns, self.user_ns)\n    File \"<ipython-input-20-85c404e6de41>\", line 1, in <module>\n      history = model0.fit(train_data, train_sln, batch_size=10, epochs=10)\n    File \"/usr/local/lib/python3.8/dist-packages/keras/utils/traceback_utils.py\", line 64, in error_handler\n      return fn(*args, **kwargs)\n    File \"/usr/local/lib/python3.8/dist-packages/keras/engine/training.py\", line 1409, in fit\n      tmp_logs = self.train_function(iterator)\n    File \"/usr/local/lib/python3.8/dist-packages/keras/engine/training.py\", line 1051, in train_function\n      return step_function(self, iterator)\n    File \"/usr/local/lib/python3.8/dist-packages/keras/engine/training.py\", line 1040, in step_function\n      outputs = model.distribute_strategy.run(run_step, args=(data,))\n    File \"/usr/local/lib/python3.8/dist-packages/keras/engine/training.py\", line 1030, in run_step\n      outputs = model.train_step(data)\n    File \"/usr/local/lib/python3.8/dist-packages/keras/engine/training.py\", line 890, in train_step\n      loss = self.compute_loss(x, y, y_pred, sample_weight)\n    File \"/usr/local/lib/python3.8/dist-packages/keras/engine/training.py\", line 948, in compute_loss\n      return self.compiled_loss(\n    File \"/usr/local/lib/python3.8/dist-packages/keras/engine/compile_utils.py\", line 201, in __call__\n      loss_value = loss_obj(y_t, y_p, sample_weight=sw)\n    File \"/usr/local/lib/python3.8/dist-packages/keras/losses.py\", line 139, in __call__\n      losses = call_fn(y_true, y_pred)\n    File \"/usr/local/lib/python3.8/dist-packages/keras/losses.py\", line 243, in call\n      return ag_fn(y_true, y_pred, **self._fn_kwargs)\n    File \"/usr/local/lib/python3.8/dist-packages/keras/losses.py\", line 1326, in mean_squared_error\n      y_true = tf.cast(y_true, y_pred.dtype)\nNode: 'mean_squared_error/Cast'\n2 root error(s) found.\n  (0) UNIMPLEMENTED:  Cast string to float is not supported\n\t [[{{node mean_squared_error/Cast}}]]\n  (1) CANCELLED:  Function was cancelled before it was started\n0 successful operations.\n0 derived errors ignored. [Op:__inference_train_function_3915]"
          ]
        }
      ]
    },
    {
      "cell_type": "code",
      "source": [
        "# PCA on best model (random forest model)\n",
        "from sklearn.decomposition import PCA\n",
        "extractor = PCA(n_components=4, whiten=True)\n",
        "extractor.fit(train_data)\n",
        "\n",
        "train_transformed = extractor.transform(train_data)\n",
        "test_transformed = extractor.transform(test_data)\n",
        "\n",
        "forest = RandomForestClassifier(random_state = 0, n_estimators=100)\n",
        "forest.fit(train_transformed,train_sln)\n",
        "preds = forest.predict(test_transformed)\n",
        "\n",
        "print(\"accuracy:\", metrics.accuracy_score(test_sln, preds)) \n",
        "conf_mat = metrics.confusion_matrix(test_sln, preds, labels=vals) \n",
        "print(pd.DataFrame(conf_mat, index = \"T\" + vals, columns = \"Pred\" + vals))"
      ],
      "metadata": {
        "id": "RdGYFNof7xpB",
        "colab": {
          "base_uri": "https://localhost:8080/"
        },
        "outputId": "3c109710-f2a7-4523-d05d-95d8a97b9d0d"
      },
      "execution_count": null,
      "outputs": [
        {
          "output_type": "stream",
          "name": "stdout",
          "text": [
            "accuracy: 0.8472906403940886\n",
            "            Predhigh risk  Predlow risk  Predmid risk\n",
            "Thigh risk             53             3             2\n",
            "Tlow risk               4            63            13\n",
            "Tmid risk               3             6            56\n"
          ]
        }
      ]
    },
    {
      "cell_type": "markdown",
      "source": [
        "#4. Analysis\n",
        "\n",
        "What did you discover? What insights/recommendations do you have? What did you find that was interesting? Which model was your best model, which models didn't work well? Why do you think this is? In general, I want a discussion of your experiment, the results, and what they mean."
      ],
      "metadata": {
        "id": "2Qu9bYPLmiv_"
      }
    },
    {
      "cell_type": "markdown",
      "source": [
        "Overall, the random forest model performed the best on this data as it yielded the highest accuracy. Through the feature importance chart, we are shown that blood sugar contributes the most to a mother's risk level out of all of the factors. For each model, I consulted www.scikit-learn.org to read through the documentation and adjust the inputs that would maximize the accuracy. When using the support vector classifier, perceptron, multi-layer perceptron, the normalized data performed better than the regular data because the consistency across the predictors increased model accuracy. The confusion matrices performed relatively well, as there were zero to few mothers who were predicted as \"high risk\" but were actually \"low\" or \"mid\" risk. There were some notable numbers where mothers who are \"low risk\" were predicted as \"mid risk\", and and mothers who are \"mid risk\" were predicted as \"low risk\", but I do not think those results adversely impact the conclusion. This classification is helpful in determining how much risk a pregnant mother has based on their health factors, and it has helped me understand the varying importance of the health factors in the risk classification."
      ],
      "metadata": {
        "id": "k17sKBZUmqIH"
      }
    },
    {
      "cell_type": "markdown",
      "source": [
        "# 5. Bumps in the Road\n",
        "What challenges did you encounter? How did you overcome these challenges?"
      ],
      "metadata": {
        "id": "TemAuKxlm6dQ"
      }
    },
    {
      "cell_type": "markdown",
      "source": [
        "I worked on implementing a neural network model on this data; however, I had a \"unimplemented error: graph execution error\" keep appearing when I would fit the model to the training data. I read many posts on StackOverflow and Reddit, but was not able to resolve the issue. I also put the error into ([chatGPT](https://chat.openai.com/chat)), and it says the error is due to a using a different version of TensorFlow and to download a compatible version of TensorFlow. I could not find how to download other versions of TensorFlow, but if this model ran correctly, I would train the data on a large number of epochs to get the training accuracy to be very high while still increasing the test accuracy. I would then graph these training and test accuracies together to see how those metrics change as the epochs the model is run on increase."
      ],
      "metadata": {
        "id": "zXEVEG9FnHgQ"
      }
    }
  ]
}